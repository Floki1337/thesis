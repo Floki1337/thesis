{
  "nbformat": 4,
  "nbformat_minor": 0,
  "metadata": {
    "colab": {
      "name": "Classifier.ipynb",
      "version": "0.3.2",
      "provenance": [],
      "collapsed_sections": [],
      "toc_visible": true,
      "include_colab_link": true
    },
    "kernelspec": {
      "name": "python3",
      "display_name": "Python 3"
    },
    "accelerator": "GPU"
  },
  "cells": [
    {
      "cell_type": "markdown",
      "metadata": {
        "id": "view-in-github",
        "colab_type": "text"
      },
      "source": [
        "<a href=\"https://colab.research.google.com/github/Floki1337/thesis/blob/master/Classifier.ipynb\" target=\"_parent\"><img src=\"https://colab.research.google.com/assets/colab-badge.svg\" alt=\"Open In Colab\"/></a>"
      ]
    },
    {
      "metadata": {
        "id": "TtjikITjMCdF",
        "colab_type": "text"
      },
      "cell_type": "markdown",
      "source": [
        "###Installing needed dependencies"
      ]
    },
    {
      "metadata": {
        "id": "DXJa9ncM23kJ",
        "colab_type": "code",
        "colab": {}
      },
      "cell_type": "code",
      "source": [
        "!pip3 install -q mlxtend\n",
        "!pip3 install -q kaggle"
      ],
      "execution_count": 0,
      "outputs": []
    },
    {
      "metadata": {
        "id": "z3UUqfqLLgTZ",
        "colab_type": "code",
        "outputId": "ae76ec74-c8c4-4eae-9207-fbfa11a3b0b7",
        "colab": {
          "base_uri": "https://localhost:8080/",
          "height": 122
        }
      },
      "cell_type": "code",
      "source": [
        "from google.colab import drive\n",
        "drive.mount('/content/drive')\n",
        "import os"
      ],
      "execution_count": 0,
      "outputs": [
        {
          "output_type": "stream",
          "text": [
            "Go to this URL in a browser: https://accounts.google.com/o/oauth2/auth?client_id=947318989803-6bn6qk8qdgf4n4g3pfee6491hc0brc4i.apps.googleusercontent.com&redirect_uri=urn%3Aietf%3Awg%3Aoauth%3A2.0%3Aoob&scope=email%20https%3A%2F%2Fwww.googleapis.com%2Fauth%2Fdocs.test%20https%3A%2F%2Fwww.googleapis.com%2Fauth%2Fdrive%20https%3A%2F%2Fwww.googleapis.com%2Fauth%2Fdrive.photos.readonly%20https%3A%2F%2Fwww.googleapis.com%2Fauth%2Fpeopleapi.readonly&response_type=code\n",
            "\n",
            "Enter your authorization code:\n",
            "··········\n",
            "Mounted at /content/drive\n"
          ],
          "name": "stdout"
        }
      ]
    },
    {
      "metadata": {
        "id": "PqFwNrem91RL",
        "colab_type": "code",
        "colab": {}
      },
      "cell_type": "code",
      "source": [
        "os.environ['KAGGLE_USERNAME']=\"\"\n",
        "os.environ['KAGGLE_KEY']=\"\""
      ],
      "execution_count": 0,
      "outputs": []
    },
    {
      "metadata": {
        "id": "xgnobd69MLBM",
        "colab_type": "text"
      },
      "cell_type": "markdown",
      "source": [
        "###Importing the dataset"
      ]
    },
    {
      "metadata": {
        "id": "durYap4nESjP",
        "colab_type": "code",
        "outputId": "b70b142e-299d-435a-967f-951577965033",
        "colab": {
          "base_uri": "https://localhost:8080/",
          "height": 68
        }
      },
      "cell_type": "code",
      "source": [
        "!kaggle datasets download -d gaborfodor/keras-pretrained-models"
      ],
      "execution_count": 0,
      "outputs": [
        {
          "output_type": "stream",
          "text": [
            "Downloading keras-pretrained-models.zip to /content\n",
            " 98% 921M/943M [00:12<00:00, 63.3MB/s]\n",
            "100% 943M/943M [00:12<00:00, 79.1MB/s]\n"
          ],
          "name": "stdout"
        }
      ]
    },
    {
      "metadata": {
        "id": "HYC6NKHS-gMi",
        "colab_type": "code",
        "colab": {}
      },
      "cell_type": "code",
      "source": [
        "#!unzip -q -o chest-xray-pneumonia.zip\n",
        "!#unzip -q -o chest_xray.zip\n",
        "!unzip -q -o keras-pretrained-models.zip"
      ],
      "execution_count": 0,
      "outputs": []
    },
    {
      "metadata": {
        "id": "mqAc6V6QMQem",
        "colab_type": "text"
      },
      "cell_type": "markdown",
      "source": [
        "###Importing the dependecies"
      ]
    },
    {
      "metadata": {
        "id": "fgIfBpwk6bKH",
        "colab_type": "code",
        "outputId": "7ec51dda-2532-4b1a-a0ff-a328573a83cc",
        "colab": {
          "base_uri": "https://localhost:8080/",
          "height": 34
        }
      },
      "cell_type": "code",
      "source": [
        "# This Python 3 environment comes with many helpful analytics libraries installed\n",
        "# It is defined by the kaggle/python docker image: https://github.com/kaggle/docker-python\n",
        "# For example, here's several helpful packages to load in \n",
        "\n",
        "import numpy as np # linear algebra\n",
        "import pandas as pd # data processing, CSV file I/O (e.g. pd.read_csv)\n",
        "from sklearn.metrics import confusion_matrix\n",
        "import cv2 \n",
        "import glob\n",
        "import matplotlib.pyplot as plt\n",
        "import tensorflow as tf \n",
        "from keras.models import load_model\n",
        "from keras.layers import Average\n",
        "from keras import applications\n",
        "from keras.models import Model\n",
        "from keras import optimizers\n",
        "import seaborn as sns\n",
        "from keras.metrics import binary_accuracy\n",
        "from keras.layers import Input, Dense, Activation, ZeroPadding2D, BatchNormalization, Flatten, Conv2D, Dropout,GlobalAveragePooling2D\n",
        "from keras import backend as K\n",
        "\n",
        "#the data is separated in folders according to the class, the path is abnormally long because we store our data in Google Drive.\n",
        "\n",
        "\n",
        "import os\n",
        "#Change in accordance with your own paths\n",
        "train_dir_normal = \"../content/drive/My Drive/models/research/object_detection/images/train/Target_0_PNGs/*.png\"\n",
        "train_dir_not_normal = \"../content/drive/My Drive/models/research/object_detection/images/train/Target_0NN_PNGs/*.png\"\n",
        "train_dir_pneumonia = \"../content/drive/My Drive/models/research/object_detection/images/train/Target_1_PNGs/*.png\"\n",
        "val_dir_normal = \"../content/drive/My Drive/models/research/object_detection/images/train/VAL_norm/*.png\"\n",
        "val_dir_pneumonia = \"../content/drive/My Drive/models/research/object_detection/images/train/VAL_pneu/*.png\"\n",
        "test_dir_normal = \"../content/drive/My Drive/models/research/object_detection/images/train/new NORMAL/*.png\"\n",
        "test_dir_pneumonia = \"../content/drive/My Drive/models/research/object_detection/images/train/new PNEUMONIA/*.png\"\n",
        "%matplotlib inline"
      ],
      "execution_count": 0,
      "outputs": [
        {
          "output_type": "stream",
          "text": [
            "Using TensorFlow backend.\n"
          ],
          "name": "stderr"
        }
      ]
    },
    {
      "metadata": {
        "id": "6LoC1MMzMd_r",
        "colab_type": "text"
      },
      "cell_type": "markdown",
      "source": [
        "###Defining helper functions"
      ]
    },
    {
      "metadata": {
        "id": "_8f6Kj6ReRkW",
        "colab_type": "code",
        "colab": {}
      },
      "cell_type": "code",
      "source": [
        "\n",
        "def shuffle_in_unison(a,b):\n",
        "\tassert len(a) == len(b)\n",
        "\tp = np.random.permutation(len(a))\n",
        "\treturn a[p], b[p]"
      ],
      "execution_count": 0,
      "outputs": []
    },
    {
      "metadata": {
        "id": "tMR3M9hteSpX",
        "colab_type": "code",
        "colab": {}
      },
      "cell_type": "code",
      "source": [
        "def convert_to_one_hot(vec, num):\n",
        "    Y = np.eye(num)[vec.reshape(-1)].T\n",
        "    return Y"
      ],
      "execution_count": 0,
      "outputs": []
    },
    {
      "metadata": {
        "id": "4wgWR-B5eo5y",
        "colab_type": "code",
        "colab": {}
      },
      "cell_type": "code",
      "source": [
        "def load_data():\n",
        "    \"\"\"A function to load the whole dataset and the labels\"\"\"\n",
        "    train_data = []\n",
        "    val_data = []\n",
        "    test_data = []\n",
        "\n",
        "    train_labels = [] \n",
        "    val_labels = []\n",
        "    test_labels = []\n",
        "\n",
        "\n",
        "\n",
        "    # groupping the file names into arrays and then we're gonna read each img and put it in the above array \n",
        "    train_files_normal = glob.glob(train_dir_normal)\n",
        "    train_files_not_normal = glob.glob(train_dir_not_normal)\n",
        "    train_files_pneumonia = glob.glob(train_dir_pneumonia)\n",
        "    val_files_normal = glob.glob(val_dir_normal) \n",
        "    val_files_pneumonia = glob.glob(val_dir_pneumonia)\n",
        "\n",
        "    test_files_normal = glob.glob(test_dir_normal) \n",
        "    test_files_pneumonia = glob.glob(test_dir_pneumonia)\n",
        "\n",
        "    \n",
        "    #importiing the files into the array of labels\n",
        "\n",
        "    for num, file in enumerate(train_files_normal + train_files_pneumonia):\n",
        "        img = cv2.imread(file, 1) \n",
        "        img = cv2.resize(img, (200,200))#resizing an image to 200x200\n",
        "        train_data.append(img)\n",
        "        if(num+1 <= 4394):# if it is less than 4394, it is normal else not\n",
        "            train_labels.append(0)\n",
        "        else:\n",
        "            train_labels.append(1)\n",
        "    \n",
        "    for num, file in enumerate(val_files_normal + val_files_pneumonia):\n",
        "        img = cv2.imread(file, 1)\n",
        "        img = cv2.resize(img, (200,200)) #resizing an image to 200x200\n",
        "        val_data.append(img)\n",
        "        if(num+1 <= 250): # if it is less than 250, it is normal else not\n",
        "            val_labels.append(0) \n",
        "        else:\n",
        "            val_labels.append(1)\n",
        "    \n",
        "    for num, file in enumerate(test_files_normal + test_files_pneumonia):\n",
        "        img = cv2.imread(file, 1)\n",
        "        img = cv2.resize(img, (200,200)) #resizing an image to 200x200\n",
        "        test_data.append(img)\n",
        "        if(num+1 <= 250): # if it is less than 250, it is normal else not\n",
        "            test_labels.append(0)\n",
        "        else:\n",
        "            test_labels.append(1)\n",
        "    \n",
        "    #converting files to numpy arrays\n",
        "    X_train = np.array(train_data)\n",
        "    X_val  = np.array(val_data)\n",
        "    X_test = np.array(test_data)\n",
        "    \n",
        "    Y_train = np.array(train_labels)\n",
        "    Y_val = np.array(val_labels)\n",
        "    Y_test = np.array(test_labels) \n",
        "    \n",
        "    X_train, Y_train = shuffle_in_unison(X_train,Y_train)\n",
        "    X_val, Y_val = shuffle_in_unison(X_val,Y_val)\n",
        "    X_test, Y_test = shuffle_in_unison(X_test,Y_test)\n",
        "  \n",
        "    return X_train, Y_train, X_val, Y_val, X_test, Y_test \n"
      ],
      "execution_count": 0,
      "outputs": []
    },
    {
      "metadata": {
        "id": "QP8dAbIiCY6V",
        "colab_type": "code",
        "outputId": "e2beff19-ef55-4c00-dd3c-879cd08fff96",
        "colab": {
          "base_uri": "https://localhost:8080/",
          "height": 34
        }
      },
      "cell_type": "code",
      "source": [
        "import os\n",
        "directory = 'drive/My Drive/models/research/object_detection/images/train/Target_1_PNGs'\n",
        "\n",
        "print('there are ' + str(len(os.listdir(directory))) + ' files in the directory')"
      ],
      "execution_count": 0,
      "outputs": [
        {
          "output_type": "stream",
          "text": [
            "there are 5149 files in the directory\n"
          ],
          "name": "stdout"
        }
      ]
    },
    {
      "metadata": {
        "id": "KxhqYXdYMjes",
        "colab_type": "text"
      },
      "cell_type": "markdown",
      "source": [
        "###Load the data"
      ]
    },
    {
      "metadata": {
        "id": "LfsrQ8P_k2WM",
        "colab_type": "code",
        "colab": {}
      },
      "cell_type": "code",
      "source": [
        "X_train,Y_train,X_val,Y_val,X_test,Y_test = load_data()"
      ],
      "execution_count": 0,
      "outputs": []
    },
    {
      "metadata": {
        "id": "lPU9yF9Fk6KO",
        "colab_type": "code",
        "outputId": "6bb7e5c1-cb1e-4c28-99d9-73a771764047",
        "colab": {
          "base_uri": "https://localhost:8080/",
          "height": 119
        }
      },
      "cell_type": "code",
      "source": [
        "# Further preparing the data \n",
        "X_train = X_train/ 255 \n",
        "X_val = X_val/ 255 \n",
        "X_test = X_test/ 255\n",
        "\n",
        "Y_train = convert_to_one_hot(Y_train, 2).T\n",
        "Y_val = convert_to_one_hot(Y_val, 2).T\n",
        "Y_test = convert_to_one_hot(Y_test, 2).T\n",
        "\n",
        "print(\"shape of X_train : \" + str(X_train.shape))\n",
        "print(\"shape of X_val : \" + str(X_val.shape))\n",
        "print(\"shape of X_test : \" + str(X_test.shape))\n",
        "print(\"shape of Y_train : \" + str(Y_train.shape))\n",
        "print(\"shape of Y_val : \" + str(Y_val.shape))\n",
        "print(\"shape of Y_test : \" + str(Y_test.shape))"
      ],
      "execution_count": 0,
      "outputs": [
        {
          "output_type": "stream",
          "text": [
            "shape of X_train : (9543, 200, 200, 3)\n",
            "shape of X_val : (500, 200, 200, 3)\n",
            "shape of X_test : (500, 200, 200, 3)\n",
            "shape of Y_train : (9543, 2)\n",
            "shape of Y_val : (500, 2)\n",
            "shape of Y_test : (500, 2)\n"
          ],
          "name": "stdout"
        }
      ]
    },
    {
      "metadata": {
        "id": "Rf28Li8nKmdI",
        "colab_type": "code",
        "outputId": "a52e9b14-bd27-4021-f8ed-6c470162e98a",
        "colab": {
          "base_uri": "https://localhost:8080/",
          "height": 287
        }
      },
      "cell_type": "code",
      "source": [
        "plt.imshow(X_test[150])\n",
        "print(\"y = \" + str(np.squeeze(Y_train[150])))"
      ],
      "execution_count": 0,
      "outputs": [
        {
          "output_type": "stream",
          "text": [
            "y = [1. 0.]\n"
          ],
          "name": "stdout"
        },
        {
          "output_type": "display_data",
          "data": {
            "image/png": "[encoded data removed]",
            "text/plain": [
              "<matplotlib.figure.Figure at 0x7f64137c7748>"
            ]
          },
          "metadata": {
            "tags": []
          }
        }
      ]
    },
    {
      "metadata": {
        "id": "O5kdtxqkMoef",
        "colab_type": "text"
      },
      "cell_type": "markdown",
      "source": [
        "###Model definition"
      ]
    },
    {
      "metadata": {
        "id": "WZMO5LqslBdu",
        "colab_type": "code",
        "colab": {}
      },
      "cell_type": "code",
      "source": [
        "#use the model pre-trained on imagenet weights\n",
        "base_model = applications.VGG16(include_top = False, weights = 'vgg16_weights_tf_dim_ordering_tf_kernels_notop.h5')\n",
        "#base_model = applications.vgg19.VGG19(include_top=False, weights='imagenet')\n",
        "#base_model = applications.ResNet50(include_top = False, weights = 'resnet50_weights_tf_dim_ordering_tf_kernels_notop.h5')"
      ],
      "execution_count": 0,
      "outputs": []
    },
    {
      "metadata": {
        "id": "wNpAfyB9lRJ2",
        "colab_type": "code",
        "colab": {}
      },
      "cell_type": "code",
      "source": [
        "#use gradient descent technique(ADAM optimizer)\n",
        "sgd = optimizers.Adam(lr = 1e-4)"
      ],
      "execution_count": 0,
      "outputs": []
    },
    {
      "metadata": {
        "id": "Bh_sxC7XlVwL",
        "colab_type": "code",
        "colab": {}
      },
      "cell_type": "code",
      "source": [
        "# now we build a function to train the model and add a bottleneck model to our pre-trained one \n",
        "def Train_model(X_train, Y_train, X_test, Y_test, optimizer, base_model, batch_size = 64, num_epochs = 10):\n",
        "    \n",
        "    X = base_model.output\n",
        "    X = Dropout(0.5)(X)\n",
        "    X = GlobalAveragePooling2D()(X)\n",
        "    X = Dense(128, activation='relu')(X)\n",
        "    X = BatchNormalization()(X)\n",
        "    X = Dense(2, activation='sigmoid')(X)\n",
        "    model = Model(inputs = base_model.input, outputs = X)\n",
        "    \n",
        "    for layer in base_model.layers:\n",
        "        layer.trainable = False \n",
        "        \n",
        "    model.compile(optimizer = optimizer,\n",
        "                  loss = 'categorical_crossentropy',\n",
        "                  metrics = ['accuracy'])\n",
        "    \n",
        "    model.fit(X_train,Y_train,\n",
        "              batch_size = batch_size,\n",
        "              epochs = num_epochs,\n",
        "              validation_data = (X_test,Y_test))\n",
        "    \n",
        "    return model"
      ],
      "execution_count": 0,
      "outputs": []
    },
    {
      "metadata": {
        "id": "-NuV5P-Ila2a",
        "colab_type": "code",
        "outputId": "e5a4a919-559b-48b4-96a6-4c876af3c7c1",
        "colab": {
          "base_uri": "https://localhost:8080/",
          "height": 374
        }
      },
      "cell_type": "code",
      "source": [
        "model = Train_model(X_train, Y_train, X_test, Y_test, sgd, base_model, batch_size = 64, num_epochs = 10)\n",
        "#save the model\n",
        "model.save('VGG16.h5')\n",
        "#model.save('VGG19.h5')\n",
        "#model.save('inception.h5')"
      ],
      "execution_count": 0,
      "outputs": [
        {
          "output_type": "stream",
          "text": [
            "Train on 9543 samples, validate on 500 samples\n",
            "Epoch 1/10\n",
            "9543/9543 [==============================] - 85s 9ms/step - loss: 0.5239 - acc: 0.7400 - val_loss: 0.6186 - val_acc: 0.7240\n",
            "Epoch 2/10\n",
            "9543/9543 [==============================] - 81s 8ms/step - loss: 0.3813 - acc: 0.8437 - val_loss: 0.5559 - val_acc: 0.7760\n",
            "Epoch 3/10\n",
            "9543/9543 [==============================] - 81s 9ms/step - loss: 0.3536 - acc: 0.8568 - val_loss: 0.5407 - val_acc: 0.7820\n",
            "Epoch 4/10\n",
            "9543/9543 [==============================] - 81s 9ms/step - loss: 0.3336 - acc: 0.8639 - val_loss: 0.4345 - val_acc: 0.8040\n",
            "Epoch 5/10\n",
            "9543/9543 [==============================] - 81s 9ms/step - loss: 0.3198 - acc: 0.8688 - val_loss: 0.4555 - val_acc: 0.8120\n",
            "Epoch 6/10\n",
            "9543/9543 [==============================] - 81s 9ms/step - loss: 0.3163 - acc: 0.8661 - val_loss: 0.4343 - val_acc: 0.8140\n",
            "Epoch 7/10\n",
            "9543/9543 [==============================] - 81s 9ms/step - loss: 0.3076 - acc: 0.8705 - val_loss: 0.4183 - val_acc: 0.8100\n",
            "Epoch 8/10\n",
            "9543/9543 [==============================] - 81s 9ms/step - loss: 0.3024 - acc: 0.8759 - val_loss: 0.4276 - val_acc: 0.8220\n",
            "Epoch 9/10\n",
            "9543/9543 [==============================] - 81s 9ms/step - loss: 0.3001 - acc: 0.8754 - val_loss: 0.4681 - val_acc: 0.8100\n",
            "Epoch 10/10\n",
            "9543/9543 [==============================] - 81s 9ms/step - loss: 0.2986 - acc: 0.8772 - val_loss: 0.4203 - val_acc: 0.8080\n"
          ],
          "name": "stdout"
        }
      ]
    },
    {
      "metadata": {
        "id": "C7tbNRvA2trc",
        "colab_type": "code",
        "outputId": "b5019bbe-de31-4f4a-ff98-4e6448015e8a",
        "colab": {
          "base_uri": "https://localhost:8080/",
          "height": 51
        }
      },
      "cell_type": "code",
      "source": [
        "#Creating a confusion matrix for one model\n",
        "y_pred = model.predict(X_test)\n",
        "y_pred = np.argmax(y_pred, axis = 1)\n",
        "y_true = np.argmax(Y_test, axis = 1) \n",
        "conf_mat = confusion_matrix(y_true, y_pred) \n",
        "\n",
        "conf_mat"
      ],
      "execution_count": 0,
      "outputs": [
        {
          "output_type": "execute_result",
          "data": {
            "text/plain": [
              "array([[149, 101],\n",
              "       [ 20, 230]])"
            ]
          },
          "metadata": {
            "tags": []
          },
          "execution_count": 28
        }
      ]
    },
    {
      "metadata": {
        "id": "hORKNRfiM0ec",
        "colab_type": "text"
      },
      "cell_type": "markdown",
      "source": [
        "###Ensembling"
      ]
    },
    {
      "metadata": {
        "id": "JFiE9k-xBFYZ",
        "colab_type": "code",
        "colab": {}
      },
      "cell_type": "code",
      "source": [
        "#loading pre-trained models\n",
        "\n",
        "vgg19 = load_model('VGG19.h5')\n",
        "\n",
        "vgg16 = load_model('VGG16.h5')\n",
        "\n",
        "inception = load_model('inception.h5')"
      ],
      "execution_count": 0,
      "outputs": []
    },
    {
      "metadata": {
        "id": "dFncmixfqFEK",
        "colab_type": "code",
        "colab": {}
      },
      "cell_type": "code",
      "source": [
        "#creating an ensemble of three models\n",
        "output = vgg16.predict(X_test) + vgg19.predict(X_test) + inception.predict(X_test)\n",
        "ensemble_pred = np.exp(output/3)-1"
      ],
      "execution_count": 0,
      "outputs": []
    },
    {
      "metadata": {
        "id": "djwrv8dIuOvD",
        "colab_type": "code",
        "outputId": "c8c2af32-98db-4f26-ed13-c342f4640bf2",
        "colab": {
          "base_uri": "https://localhost:8080/",
          "height": 51
        }
      },
      "cell_type": "code",
      "source": [
        "#confusion matrix for the ensemble\n",
        "ensemble_pred = np.argmax(ensemble_pred, axis = 1)\n",
        "y_true = np.argmax(Y_test, axis = 1) \n",
        "ens_conf_mat = confusion_matrix(y_true, ensemble_pred)\n",
        "ens_conf_mat"
      ],
      "execution_count": 0,
      "outputs": [
        {
          "output_type": "execute_result",
          "data": {
            "text/plain": [
              "array([[200,  50],\n",
              "       [ 40, 210]])"
            ]
          },
          "metadata": {
            "tags": []
          },
          "execution_count": 50
        }
      ]
    },
    {
      "metadata": {
        "id": "B5xDht_MxYDi",
        "colab_type": "code",
        "outputId": "223d99c6-7fbc-42a0-b7f8-66ea149848a2",
        "colab": {
          "base_uri": "https://localhost:8080/",
          "height": 283
        }
      },
      "cell_type": "code",
      "source": [
        "cm_df = pd.DataFrame(ens_conf_mat,\n",
        "                     index = ['normal','pneumonia'], \n",
        "                     columns = ['normal','pneumonia'])\n",
        "\n",
        "\n",
        "plt.figure(figsize=(5.5,4))\n",
        "sns.heatmap(cm_df, annot=True)\n",
        "plt.ylabel('True label')\n",
        "plt.xlabel('Predicted label')\n",
        "plt.show()\n"
      ],
      "execution_count": 0,
      "outputs": [
        {
          "output_type": "display_data",
          "data": {
            "image/png": "[encoded data removed]",
            "text/plain": [
              "<matplotlib.figure.Figure at 0x7f15d336e7f0>"
            ]
          },
          "metadata": {
            "tags": []
          }
        }
      ]
    }
  ]
}